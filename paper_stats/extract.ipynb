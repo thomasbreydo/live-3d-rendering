{
 "cells": [
  {
   "cell_type": "code",
   "execution_count": 69,
   "id": "98b9a73d",
   "metadata": {},
   "outputs": [],
   "source": [
    "WINDOW_LENGTHS = [10, 25, 50, 100]\n",
    "DO_BLUR = False\n",
    "BLACK_THRESH = 10  # x <= threshhold\n",
    "WHITE_THRESH = 240 # x > thresh"
   ]
  },
  {
   "cell_type": "code",
   "execution_count": 70,
   "id": "1d58208a",
   "metadata": {},
   "outputs": [],
   "source": [
    "import numpy as np\n",
    "import matplotlib.pyplot as plt\n",
    "\n",
    "import os\n",
    "import sys"
   ]
  },
  {
   "cell_type": "code",
   "execution_count": 71,
   "id": "8236a97e",
   "metadata": {},
   "outputs": [],
   "source": [
    "sys.path.append(os.path.abspath('..'))\n",
    "import live_3d_rendering as l3d"
   ]
  },
  {
   "cell_type": "code",
   "execution_count": 72,
   "id": "8a612f48",
   "metadata": {},
   "outputs": [],
   "source": [
    "import glob\n",
    "import itertools as it\n",
    "from typing import Iterator, Optional\n",
    "\n",
    "celiacs_dir = \"images/mar29-higher-res/celiac/\"\n",
    "controls_dir = \"images/mar29-higher-res/control/\"\n",
    "img_file_extensions = ['jpg', 'jpeg', 'png', 'JPG', 'JPEG', 'PNG']\n",
    "\n",
    "def file_iterator(directory, file_ext) -> Iterator[str]:\n",
    "    return glob.glob(os.path.join(directory, f\"*.{file_ext}\"), recursive=False)\n",
    "\n",
    "celiac_files = it.chain(*[file_iterator(celiacs_dir, ext) for ext in img_file_extensions])\n",
    "control_files = it.chain(*[file_iterator(controls_dir, ext) for ext in img_file_extensions])"
   ]
  },
  {
   "cell_type": "code",
   "execution_count": 73,
   "id": "896ab79a",
   "metadata": {},
   "outputs": [],
   "source": [
    "from PIL import Image, ImageFilter\n",
    "\n",
    "if DO_BLUR:\n",
    "    celiac_ims = [l3d.preprocess(Image.open(f)).filter(ImageFilter.GaussianBlur(5)) for f in celiac_files]\n",
    "    control_ims = [l3d.preprocess(Image.open(f)).filter(ImageFilter.GaussianBlur(5)) for f in control_files]\n",
    "else:\n",
    "    celiac_ims = [l3d.preprocess(Image.open(f), white_thresh=WHITE_THRESH) for f in celiac_files]\n",
    "    control_ims = [l3d.preprocess(Image.open(f), white_thresh=WHITE_THRESH) for f in control_files]\n",
    "    "
   ]
  },
  {
   "cell_type": "code",
   "execution_count": 74,
   "id": "ef98fa54",
   "metadata": {
    "scrolled": true
   },
   "outputs": [],
   "source": [
    "from live_3d_rendering import local_stats as stats\n",
    "\n",
    "def window_ok(w: stats.Window, black_thresh: int) -> bool:\n",
    "    \"\"\"Return True if w is nonempty and at most 1% pixels <= black_thresh.\"\"\"\n",
    "    return w.access().size > 0 and np.sum(w.access() <= black_thresh) < 0.01 * w.access().size"
   ]
  },
  {
   "cell_type": "code",
   "execution_count": 75,
   "id": "024d2591",
   "metadata": {},
   "outputs": [],
   "source": [
    "# def window_iterator(im: Image.Image, side_len: int, black_thresh: Optional[int] = 10) -> Iterator[stats.Window]:\n",
    "#     arr = np.array(im)\n",
    "#     yield stats.Window(arr, 0, 0, *arr.shape)\n",
    "\n",
    "def window_iterator(im: Image.Image, side_len: int, black_thresh: Optional[int] = 10) -> Iterator[stats.Window]:\n",
    "    arr = np.array(im)\n",
    "    for row in range(0, max(1, im.size[0] - side_len), side_len):\n",
    "        for col in range(0, max(1, im.size[1] - side_len), side_len):\n",
    "            window = stats.Window(arr, row, col, side_len, side_len)\n",
    "            if window_ok(window, black_thresh):\n",
    "                yield window"
   ]
  },
  {
   "cell_type": "code",
   "execution_count": 76,
   "id": "0510615b",
   "metadata": {},
   "outputs": [],
   "source": [
    "from live_3d_rendering.stats_functions import (\n",
    "    local_min,\n",
    "    local_max,\n",
    "    local_mean,\n",
    "    local_variance,\n",
    ")\n",
    "import pandas as pd\n",
    "\n",
    "funcs = [local_min, local_max, local_mean, local_variance, lambda x: np.sqrt(x.var())]\n",
    "func_names = ['min', 'max', 'mean', 'variance', 'std']"
   ]
  },
  {
   "cell_type": "code",
   "execution_count": 77,
   "id": "785f5af8",
   "metadata": {},
   "outputs": [],
   "source": [
    "celiac_info_by_wlen = {wlen: [] for wlen in WINDOW_LENGTHS}\n",
    "control_info_by_wlen = {wlen: [] for wlen in WINDOW_LENGTHS}\n",
    "\n",
    "for window_len in WINDOW_LENGTHS:\n",
    "    \n",
    "    for im in celiac_ims:\n",
    "        for window in window_iterator(im, window_len, BLACK_THRESH):\n",
    "            celiac_info_by_wlen[window_len].append(window.get_stats(funcs))\n",
    "    \n",
    "    for im in control_ims:\n",
    "        for window in window_iterator(im, window_len, BLACK_THRESH):\n",
    "            control_info_by_wlen[window_len].append(window.get_stats(funcs))"
   ]
  },
  {
   "cell_type": "code",
   "execution_count": 78,
   "id": "36274f42",
   "metadata": {},
   "outputs": [],
   "source": [
    "for wlen in WINDOW_LENGTHS:\n",
    "    celiac_df = pd.DataFrame(celiac_info_by_wlen[wlen], columns=func_names)\n",
    "    celiac_df.to_csv(f\"celiac_{wlen}_by_{wlen}.csv\", index=False)\n",
    "    control_df = pd.DataFrame(control_info_by_wlen[wlen], columns=func_names)\n",
    "    control_df.to_csv(f\"control_{wlen}_by_{wlen}.csv\", index=False)"
   ]
  },
  {
   "cell_type": "markdown",
   "id": "f53c1e5c",
   "metadata": {},
   "source": [
    "# Visualization"
   ]
  },
  {
   "cell_type": "code",
   "execution_count": 79,
   "id": "3b108068",
   "metadata": {},
   "outputs": [
    {
     "name": "stdout",
     "output_type": "stream",
     "text": [
      "---------------------------------------------------\n",
      "\n",
      "10x10 windows\n"
     ]
    },
    {
     "data": {
      "text/html": [
       "<div>\n",
       "<style scoped>\n",
       "    .dataframe tbody tr th:only-of-type {\n",
       "        vertical-align: middle;\n",
       "    }\n",
       "\n",
       "    .dataframe tbody tr th {\n",
       "        vertical-align: top;\n",
       "    }\n",
       "\n",
       "    .dataframe thead th {\n",
       "        text-align: right;\n",
       "    }\n",
       "</style>\n",
       "<table border=\"1\" class=\"dataframe\">\n",
       "  <thead>\n",
       "    <tr style=\"text-align: right;\">\n",
       "      <th></th>\n",
       "      <th>min</th>\n",
       "      <th>max</th>\n",
       "      <th>mean</th>\n",
       "      <th>variance</th>\n",
       "      <th>std</th>\n",
       "    </tr>\n",
       "  </thead>\n",
       "  <tbody>\n",
       "    <tr>\n",
       "      <th>celiac (mean value)</th>\n",
       "      <td>78.911117</td>\n",
       "      <td>94.109683</td>\n",
       "      <td>86.685100</td>\n",
       "      <td>27.533552</td>\n",
       "      <td>3.825632</td>\n",
       "    </tr>\n",
       "    <tr>\n",
       "      <th>celiac (std)</th>\n",
       "      <td>33.786935</td>\n",
       "      <td>35.026077</td>\n",
       "      <td>34.085710</td>\n",
       "      <td>84.946033</td>\n",
       "      <td>3.591435</td>\n",
       "    </tr>\n",
       "    <tr>\n",
       "      <th>control (mean value)</th>\n",
       "      <td>88.143702</td>\n",
       "      <td>100.494016</td>\n",
       "      <td>94.466167</td>\n",
       "      <td>18.251203</td>\n",
       "      <td>3.089696</td>\n",
       "    </tr>\n",
       "    <tr>\n",
       "      <th>control (std)</th>\n",
       "      <td>26.707061</td>\n",
       "      <td>25.646540</td>\n",
       "      <td>25.777523</td>\n",
       "      <td>60.525676</td>\n",
       "      <td>2.950455</td>\n",
       "    </tr>\n",
       "  </tbody>\n",
       "</table>\n",
       "</div>"
      ],
      "text/plain": [
       "                            min         max       mean   variance       std\n",
       "celiac (mean value)   78.911117   94.109683  86.685100  27.533552  3.825632\n",
       "celiac (std)          33.786935   35.026077  34.085710  84.946033  3.591435\n",
       "control (mean value)  88.143702  100.494016  94.466167  18.251203  3.089696\n",
       "control (std)         26.707061   25.646540  25.777523  60.525676  2.950455"
      ]
     },
     "metadata": {},
     "output_type": "display_data"
    },
    {
     "name": "stdout",
     "output_type": "stream",
     "text": [
      "---------------------------------------------------\n",
      "\n",
      "25x25 windows\n"
     ]
    },
    {
     "data": {
      "text/html": [
       "<div>\n",
       "<style scoped>\n",
       "    .dataframe tbody tr th:only-of-type {\n",
       "        vertical-align: middle;\n",
       "    }\n",
       "\n",
       "    .dataframe tbody tr th {\n",
       "        vertical-align: top;\n",
       "    }\n",
       "\n",
       "    .dataframe thead th {\n",
       "        text-align: right;\n",
       "    }\n",
       "</style>\n",
       "<table border=\"1\" class=\"dataframe\">\n",
       "  <thead>\n",
       "    <tr style=\"text-align: right;\">\n",
       "      <th></th>\n",
       "      <th>min</th>\n",
       "      <th>max</th>\n",
       "      <th>mean</th>\n",
       "      <th>variance</th>\n",
       "      <th>std</th>\n",
       "    </tr>\n",
       "  </thead>\n",
       "  <tbody>\n",
       "    <tr>\n",
       "      <th>celiac (mean value)</th>\n",
       "      <td>71.906362</td>\n",
       "      <td>103.292822</td>\n",
       "      <td>88.772770</td>\n",
       "      <td>75.391939</td>\n",
       "      <td>6.870203</td>\n",
       "    </tr>\n",
       "    <tr>\n",
       "      <th>celiac (std)</th>\n",
       "      <td>32.774325</td>\n",
       "      <td>34.776445</td>\n",
       "      <td>32.722492</td>\n",
       "      <td>162.456398</td>\n",
       "      <td>5.310070</td>\n",
       "    </tr>\n",
       "    <tr>\n",
       "      <th>control (mean value)</th>\n",
       "      <td>81.482227</td>\n",
       "      <td>107.339436</td>\n",
       "      <td>95.430179</td>\n",
       "      <td>52.911532</td>\n",
       "      <td>5.733548</td>\n",
       "    </tr>\n",
       "    <tr>\n",
       "      <th>control (std)</th>\n",
       "      <td>27.483378</td>\n",
       "      <td>25.374515</td>\n",
       "      <td>24.960065</td>\n",
       "      <td>108.384691</td>\n",
       "      <td>4.476720</td>\n",
       "    </tr>\n",
       "  </tbody>\n",
       "</table>\n",
       "</div>"
      ],
      "text/plain": [
       "                            min         max       mean    variance       std\n",
       "celiac (mean value)   71.906362  103.292822  88.772770   75.391939  6.870203\n",
       "celiac (std)          32.774325   34.776445  32.722492  162.456398  5.310070\n",
       "control (mean value)  81.482227  107.339436  95.430179   52.911532  5.733548\n",
       "control (std)         27.483378   25.374515  24.960065  108.384691  4.476720"
      ]
     },
     "metadata": {},
     "output_type": "display_data"
    },
    {
     "name": "stdout",
     "output_type": "stream",
     "text": [
      "---------------------------------------------------\n",
      "\n",
      "50x50 windows\n"
     ]
    },
    {
     "data": {
      "text/html": [
       "<div>\n",
       "<style scoped>\n",
       "    .dataframe tbody tr th:only-of-type {\n",
       "        vertical-align: middle;\n",
       "    }\n",
       "\n",
       "    .dataframe tbody tr th {\n",
       "        vertical-align: top;\n",
       "    }\n",
       "\n",
       "    .dataframe thead th {\n",
       "        text-align: right;\n",
       "    }\n",
       "</style>\n",
       "<table border=\"1\" class=\"dataframe\">\n",
       "  <thead>\n",
       "    <tr style=\"text-align: right;\">\n",
       "      <th></th>\n",
       "      <th>min</th>\n",
       "      <th>max</th>\n",
       "      <th>mean</th>\n",
       "      <th>variance</th>\n",
       "      <th>std</th>\n",
       "    </tr>\n",
       "  </thead>\n",
       "  <tbody>\n",
       "    <tr>\n",
       "      <th>celiac (mean value)</th>\n",
       "      <td>62.535050</td>\n",
       "      <td>114.447783</td>\n",
       "      <td>91.156072</td>\n",
       "      <td>145.921412</td>\n",
       "      <td>10.204836</td>\n",
       "    </tr>\n",
       "    <tr>\n",
       "      <th>celiac (std)</th>\n",
       "      <td>31.430392</td>\n",
       "      <td>34.504216</td>\n",
       "      <td>31.107038</td>\n",
       "      <td>217.490567</td>\n",
       "      <td>6.466269</td>\n",
       "    </tr>\n",
       "    <tr>\n",
       "      <th>control (mean value)</th>\n",
       "      <td>72.692561</td>\n",
       "      <td>115.845951</td>\n",
       "      <td>96.878070</td>\n",
       "      <td>105.889538</td>\n",
       "      <td>8.707758</td>\n",
       "    </tr>\n",
       "    <tr>\n",
       "      <th>control (std)</th>\n",
       "      <td>27.625548</td>\n",
       "      <td>24.902973</td>\n",
       "      <td>23.568234</td>\n",
       "      <td>151.520846</td>\n",
       "      <td>5.484916</td>\n",
       "    </tr>\n",
       "  </tbody>\n",
       "</table>\n",
       "</div>"
      ],
      "text/plain": [
       "                            min         max       mean    variance        std\n",
       "celiac (mean value)   62.535050  114.447783  91.156072  145.921412  10.204836\n",
       "celiac (std)          31.430392   34.504216  31.107038  217.490567   6.466269\n",
       "control (mean value)  72.692561  115.845951  96.878070  105.889538   8.707758\n",
       "control (std)         27.625548   24.902973  23.568234  151.520846   5.484916"
      ]
     },
     "metadata": {},
     "output_type": "display_data"
    },
    {
     "name": "stdout",
     "output_type": "stream",
     "text": [
      "---------------------------------------------------\n",
      "\n",
      "100x100 windows\n"
     ]
    },
    {
     "data": {
      "text/html": [
       "<div>\n",
       "<style scoped>\n",
       "    .dataframe tbody tr th:only-of-type {\n",
       "        vertical-align: middle;\n",
       "    }\n",
       "\n",
       "    .dataframe tbody tr th {\n",
       "        vertical-align: top;\n",
       "    }\n",
       "\n",
       "    .dataframe thead th {\n",
       "        text-align: right;\n",
       "    }\n",
       "</style>\n",
       "<table border=\"1\" class=\"dataframe\">\n",
       "  <thead>\n",
       "    <tr style=\"text-align: right;\">\n",
       "      <th></th>\n",
       "      <th>min</th>\n",
       "      <th>max</th>\n",
       "      <th>mean</th>\n",
       "      <th>variance</th>\n",
       "      <th>std</th>\n",
       "    </tr>\n",
       "  </thead>\n",
       "  <tbody>\n",
       "    <tr>\n",
       "      <th>celiac (mean value)</th>\n",
       "      <td>50.240143</td>\n",
       "      <td>133.978495</td>\n",
       "      <td>95.153362</td>\n",
       "      <td>291.175784</td>\n",
       "      <td>15.423218</td>\n",
       "    </tr>\n",
       "    <tr>\n",
       "      <th>celiac (std)</th>\n",
       "      <td>28.535533</td>\n",
       "      <td>32.001342</td>\n",
       "      <td>28.890444</td>\n",
       "      <td>286.359910</td>\n",
       "      <td>7.313813</td>\n",
       "    </tr>\n",
       "    <tr>\n",
       "      <th>control (mean value)</th>\n",
       "      <td>60.034921</td>\n",
       "      <td>130.073016</td>\n",
       "      <td>99.566945</td>\n",
       "      <td>209.884028</td>\n",
       "      <td>13.107097</td>\n",
       "    </tr>\n",
       "    <tr>\n",
       "      <th>control (std)</th>\n",
       "      <td>25.609924</td>\n",
       "      <td>23.040211</td>\n",
       "      <td>21.220269</td>\n",
       "      <td>208.608126</td>\n",
       "      <td>6.181369</td>\n",
       "    </tr>\n",
       "  </tbody>\n",
       "</table>\n",
       "</div>"
      ],
      "text/plain": [
       "                            min         max       mean    variance        std\n",
       "celiac (mean value)   50.240143  133.978495  95.153362  291.175784  15.423218\n",
       "celiac (std)          28.535533   32.001342  28.890444  286.359910   7.313813\n",
       "control (mean value)  60.034921  130.073016  99.566945  209.884028  13.107097\n",
       "control (std)         25.609924   23.040211  21.220269  208.608126   6.181369"
      ]
     },
     "metadata": {},
     "output_type": "display_data"
    },
    {
     "name": "stdout",
     "output_type": "stream",
     "text": [
      "---------------------------------------------------\n",
      "\n"
     ]
    }
   ],
   "source": [
    "def stats_of_wlen(WL):\n",
    "    celiac = pd.read_csv(f\"celiac_{WL}_by_{WL}.csv\")\n",
    "    celiac_means = celiac.mean()\n",
    "    celiac_stds = celiac.std()\n",
    "    control = pd.read_csv(f\"control_{WL}_by_{WL}.csv\")\n",
    "    control_means = control.mean()\n",
    "    control_stds = control.std()\n",
    "    return pd.DataFrame(\n",
    "        [celiac_means, celiac_stds, control_means, control_stds],\n",
    "        columns=['min', 'max', 'mean', 'variance', 'std'],\n",
    "        index=[\"celiac (mean value)\", \"celiac (std)\", \"control (mean value)\", \"control (std)\"],\n",
    "    )\n",
    "from IPython.display import display\n",
    "print('---------------------------------------------------\\n')\n",
    "for wlen in WINDOW_LENGTHS:\n",
    "    print(f\"{wlen}x{wlen} windows\")\n",
    "    display(stats_of_wlen(wlen))\n",
    "    print('---------------------------------------------------\\n')"
   ]
  },
  {
   "cell_type": "markdown",
   "id": "1c31c4b9",
   "metadata": {},
   "source": [
    "### (ignore the rest of this document, it's scratch work)"
   ]
  },
  {
   "cell_type": "code",
   "execution_count": null,
   "id": "74fc726d",
   "metadata": {},
   "outputs": [],
   "source": []
  }
 ],
 "metadata": {
  "kernelspec": {
   "display_name": "Python (im2surf poetry env)",
   "language": "python",
   "name": "other-env"
  },
  "language_info": {
   "codemirror_mode": {
    "name": "ipython",
    "version": 3
   },
   "file_extension": ".py",
   "mimetype": "text/x-python",
   "name": "python",
   "nbconvert_exporter": "python",
   "pygments_lexer": "ipython3",
   "version": "3.9.16"
  }
 },
 "nbformat": 4,
 "nbformat_minor": 5
}
