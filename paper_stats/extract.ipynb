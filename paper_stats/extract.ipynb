{
 "cells": [
  {
   "cell_type": "code",
   "execution_count": 1,
   "id": "98b9a73d",
   "metadata": {},
   "outputs": [],
   "source": [
    "WINDOW_LENGTHS = [10]\n",
    "DO_BLUR = False\n",
    "BLACK_THRESH = 3  # x <= threshhold\n",
    "WHITE_THRESH = 253 # x > thresh"
   ]
  },
  {
   "cell_type": "code",
   "execution_count": 2,
   "id": "1d58208a",
   "metadata": {},
   "outputs": [],
   "source": [
    "import numpy as np\n",
    "import matplotlib.pyplot as plt\n",
    "\n",
    "import os\n",
    "import sys"
   ]
  },
  {
   "cell_type": "code",
   "execution_count": 3,
   "id": "8236a97e",
   "metadata": {},
   "outputs": [],
   "source": [
    "sys.path.append(os.path.abspath('..'))\n",
    "import live_3d_rendering as l3d"
   ]
  },
  {
   "cell_type": "code",
   "execution_count": 4,
   "id": "8a612f48",
   "metadata": {},
   "outputs": [],
   "source": [
    "import glob\n",
    "import itertools as it\n",
    "from typing import Iterator, Optional\n",
    "\n",
    "celiacs_dir = \"images/mar29-higher-res/celiac/\"\n",
    "controls_dir = \"images/mar29-higher-res/control/\"\n",
    "img_file_extensions = ['jpg', 'jpeg', 'png', 'JPG', 'JPEG', 'PNG']\n",
    "\n",
    "def file_iterator(directory, file_ext) -> Iterator[str]:\n",
    "    return glob.glob(os.path.join(directory, f\"*.{file_ext}\"), recursive=False)\n",
    "\n",
    "celiac_files = it.chain(*[file_iterator(celiacs_dir, ext) for ext in img_file_extensions])\n",
    "control_files = it.chain(*[file_iterator(controls_dir, ext) for ext in img_file_extensions])"
   ]
  },
  {
   "cell_type": "code",
   "execution_count": 5,
   "id": "896ab79a",
   "metadata": {},
   "outputs": [],
   "source": [
    "from PIL import Image, ImageFilter\n",
    "\n",
    "if DO_BLUR:\n",
    "    celiac_ims = [l3d.preprocess(Image.open(f)).filter(ImageFilter.GaussianBlur(5)) for f in celiac_files]\n",
    "    control_ims = [l3d.preprocess(Image.open(f)).filter(ImageFilter.GaussianBlur(5)) for f in control_files]\n",
    "else:\n",
    "    celiac_ims = [l3d.preprocess(Image.open(f), white_thresh=WHITE_THRESH) for f in celiac_files]\n",
    "    control_ims = [l3d.preprocess(Image.open(f), white_thresh=WHITE_THRESH) for f in control_files]\n",
    "    "
   ]
  },
  {
   "cell_type": "code",
   "execution_count": 6,
   "id": "ef98fa54",
   "metadata": {
    "scrolled": true
   },
   "outputs": [],
   "source": [
    "from live_3d_rendering import local_stats as stats\n",
    "\n",
    "def window_ok(w: stats.Window, black_thresh: int) -> bool:\n",
    "    \"\"\"Return True if w is nonempty and at most 1% pixels <= black_thresh.\"\"\"\n",
    "    return w.access().size > 0 and np.sum(w.access() <= black_thresh) < 0.01 * w.access().size"
   ]
  },
  {
   "cell_type": "code",
   "execution_count": 7,
   "id": "024d2591",
   "metadata": {},
   "outputs": [],
   "source": [
    "# def window_iterator(im: Image.Image, side_len: int, black_thresh: Optional[int] = 10) -> Iterator[stats.Window]:\n",
    "#     arr = np.array(im)\n",
    "#     yield stats.Window(arr, 0, 0, *arr.shape)\n",
    "\n",
    "def window_iterator(im: Image.Image, side_len: int, black_thresh: Optional[int] = 10) -> Iterator[stats.Window]:\n",
    "    arr = np.array(im)\n",
    "    for row in range(0, max(1, im.size[0] - side_len), side_len):\n",
    "        for col in range(0, max(1, im.size[1] - side_len), side_len):\n",
    "            window = stats.Window(arr, row, col, side_len, side_len)\n",
    "            if window_ok(window, black_thresh):\n",
    "                yield window"
   ]
  },
  {
   "cell_type": "code",
   "execution_count": 8,
   "id": "0510615b",
   "metadata": {},
   "outputs": [],
   "source": [
    "from live_3d_rendering.stats_functions import (\n",
    "    local_min,\n",
    "    local_max,\n",
    "    local_mean,\n",
    "    local_variance,\n",
    ")\n",
    "import pandas as pd\n",
    "\n",
    "funcs = [local_min, local_max, local_mean, local_variance, lambda x: np.sqrt(x.var())]\n",
    "func_names = ['min', 'max', 'mean', 'variance', 'std']"
   ]
  },
  {
   "cell_type": "code",
   "execution_count": 9,
   "id": "785f5af8",
   "metadata": {},
   "outputs": [],
   "source": [
    "celiac_info_by_wlen = {wlen: [] for wlen in WINDOW_LENGTHS}\n",
    "control_info_by_wlen = {wlen: [] for wlen in WINDOW_LENGTHS}\n",
    "\n",
    "for window_len in WINDOW_LENGTHS:\n",
    "    \n",
    "    for im in celiac_ims:\n",
    "        for window in window_iterator(im, window_len, BLACK_THRESH):\n",
    "            celiac_info_by_wlen[window_len].append(window.get_stats(funcs))\n",
    "    \n",
    "    for im in control_ims:\n",
    "        for window in window_iterator(im, window_len, BLACK_THRESH):\n",
    "            control_info_by_wlen[window_len].append(window.get_stats(funcs))"
   ]
  },
  {
   "cell_type": "code",
   "execution_count": 10,
   "id": "36274f42",
   "metadata": {},
   "outputs": [],
   "source": [
    "for wlen in WINDOW_LENGTHS:\n",
    "    celiac_df = pd.DataFrame(celiac_info_by_wlen[wlen], columns=func_names)\n",
    "    celiac_df.to_csv(f\"celiac_{wlen}_by_{wlen}.csv\", index=False)\n",
    "    control_df = pd.DataFrame(control_info_by_wlen[wlen], columns=func_names)\n",
    "    control_df.to_csv(f\"control_{wlen}_by_{wlen}.csv\", index=False)"
   ]
  },
  {
   "cell_type": "markdown",
   "id": "f53c1e5c",
   "metadata": {},
   "source": [
    "# Visualization"
   ]
  },
  {
   "cell_type": "code",
   "execution_count": 11,
   "id": "3b108068",
   "metadata": {},
   "outputs": [
    {
     "name": "stdout",
     "output_type": "stream",
     "text": [
      "---------------------------------------------------\n",
      "\n",
      "10x10 windows\n"
     ]
    },
    {
     "data": {
      "text/html": [
       "<div>\n",
       "<style scoped>\n",
       "    .dataframe tbody tr th:only-of-type {\n",
       "        vertical-align: middle;\n",
       "    }\n",
       "\n",
       "    .dataframe tbody tr th {\n",
       "        vertical-align: top;\n",
       "    }\n",
       "\n",
       "    .dataframe thead th {\n",
       "        text-align: right;\n",
       "    }\n",
       "</style>\n",
       "<table border=\"1\" class=\"dataframe\">\n",
       "  <thead>\n",
       "    <tr style=\"text-align: right;\">\n",
       "      <th></th>\n",
       "      <th>min</th>\n",
       "      <th>max</th>\n",
       "      <th>mean</th>\n",
       "      <th>variance</th>\n",
       "      <th>std</th>\n",
       "    </tr>\n",
       "  </thead>\n",
       "  <tbody>\n",
       "    <tr>\n",
       "      <th>celiac</th>\n",
       "      <td>76.199808</td>\n",
       "      <td>91.319558</td>\n",
       "      <td>83.928114</td>\n",
       "      <td>27.844894</td>\n",
       "      <td>3.801672</td>\n",
       "    </tr>\n",
       "    <tr>\n",
       "      <th>control</th>\n",
       "      <td>87.653408</td>\n",
       "      <td>100.185581</td>\n",
       "      <td>94.124049</td>\n",
       "      <td>18.938353</td>\n",
       "      <td>3.123945</td>\n",
       "    </tr>\n",
       "  </tbody>\n",
       "</table>\n",
       "</div>"
      ],
      "text/plain": [
       "               min         max       mean   variance       std\n",
       "celiac   76.199808   91.319558  83.928114  27.844894  3.801672\n",
       "control  87.653408  100.185581  94.124049  18.938353  3.123945"
      ]
     },
     "metadata": {},
     "output_type": "display_data"
    },
    {
     "name": "stdout",
     "output_type": "stream",
     "text": [
      "---------------------------------------------------\n",
      "\n"
     ]
    }
   ],
   "source": [
    "def stats_of_wlen(WL):\n",
    "    celiac = pd.read_csv(f\"celiac_{WL}_by_{WL}.csv\")\n",
    "    celiac_means = celiac.mean()\n",
    "    control = pd.read_csv(f\"control_{WL}_by_{WL}.csv\")\n",
    "    control_means = control.mean()\n",
    "    return pd.DataFrame(\n",
    "        [celiac_means, control_means],\n",
    "        columns=['min', 'max', 'mean', 'variance', 'std'],\n",
    "        index=[\"celiac\", \"control\"],\n",
    "    )\n",
    "from IPython.display import display\n",
    "print('---------------------------------------------------\\n')\n",
    "for wlen in WINDOW_LENGTHS:\n",
    "    print(f\"{wlen}x{wlen} windows\")\n",
    "    display(stats_of_wlen(wlen))\n",
    "    print('---------------------------------------------------\\n')"
   ]
  },
  {
   "cell_type": "markdown",
   "id": "1c31c4b9",
   "metadata": {},
   "source": [
    "### (ignore the rest of this document, it's scratch work)"
   ]
  },
  {
   "cell_type": "code",
   "execution_count": null,
   "id": "74fc726d",
   "metadata": {},
   "outputs": [],
   "source": []
  }
 ],
 "metadata": {
  "kernelspec": {
   "display_name": "Python (im2surf poetry env)",
   "language": "python",
   "name": "other-env"
  },
  "language_info": {
   "codemirror_mode": {
    "name": "ipython",
    "version": 3
   },
   "file_extension": ".py",
   "mimetype": "text/x-python",
   "name": "python",
   "nbconvert_exporter": "python",
   "pygments_lexer": "ipython3",
   "version": "3.9.16"
  }
 },
 "nbformat": 4,
 "nbformat_minor": 5
}
